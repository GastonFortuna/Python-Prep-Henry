{
 "cells": [
  {
   "attachments": {},
   "cell_type": "markdown",
   "metadata": {},
   "source": [
    "## Flujos de Control"
   ]
  },
  {
   "attachments": {},
   "cell_type": "markdown",
   "metadata": {},
   "source": [
    "1) Crear una variable que contenga un elemento del conjunto de números enteros y luego imprimir por pantalla si es mayor o menor a cero"
   ]
  },
  {
   "cell_type": "code",
   "execution_count": 8,
   "metadata": {},
   "outputs": [
    {
     "name": "stdout",
     "output_type": "stream",
     "text": [
      "El 5 es mayor a cero\n",
      "El 3 es mayor a cero\n",
      "El -2 es menor a cero\n",
      "El -1 es menor a cero\n",
      "El 5 es mayor a cero\n",
      "El -10 es menor a cero\n",
      "El 0 es  cero\n"
     ]
    }
   ],
   "source": [
    "numeros = [5,3,-2,-1,5,-10,0]\n",
    "for i in numeros:\n",
    "    if i>0:\n",
    "        print(f\"El {i} es mayor a cero\")\n",
    "    elif i<0:\n",
    "        print(f\"El {i} es menor a cero\")\n",
    "    else:\n",
    "        print(f\"El {i} es  cero\")"
   ]
  },
  {
   "attachments": {},
   "cell_type": "markdown",
   "metadata": {},
   "source": [
    "2) Crear dos variables y un condicional que informe si son del mismo tipo de dato"
   ]
  },
  {
   "cell_type": "code",
   "execution_count": 30,
   "metadata": {},
   "outputs": [
    {
     "name": "stdout",
     "output_type": "stream",
     "text": [
      "El tipo de dato 1 es igual al 1\n",
      "El tipo de dato 2 es igual al 1\n",
      "El tipo de dato a es diferente al 1\n",
      "El tipo de dato 1 es igual al 2\n",
      "El tipo de dato 2 es igual al 2\n",
      "El tipo de dato a es diferente al 2\n",
      "El tipo de dato 1 es diferente al a\n",
      "El tipo de dato 2 es diferente al a\n",
      "El tipo de dato a es igual al a\n",
      "0\n"
     ]
    }
   ],
   "source": [
    "numeros = [1,2,'a']\n",
    "contador = 0\n",
    "for j in numeros:\n",
    "    for i in numeros:\n",
    "        if type(j) == type(i):\n",
    "            print(f'El tipo de dato {i} es igual al {j}')\n",
    "        else:\n",
    "            print(f'El tipo de dato {i} es diferente al {j}')\n",
    "print(contador)"
   ]
  },
  {
   "attachments": {},
   "cell_type": "markdown",
   "metadata": {},
   "source": [
    "3) Para los valores enteros del 1 al 20, imprimir por pantalla si es par o impar"
   ]
  },
  {
   "cell_type": "code",
   "execution_count": 32,
   "metadata": {},
   "outputs": [
    {
     "name": "stdout",
     "output_type": "stream",
     "text": [
      "1  es impar\n",
      "2  es par\n",
      "3  es impar\n",
      "4  es par\n",
      "5  es impar\n",
      "6  es par\n",
      "7  es impar\n",
      "8  es par\n",
      "9  es impar\n",
      "10  es par\n",
      "11  es impar\n",
      "12  es par\n",
      "13  es impar\n",
      "14  es par\n",
      "15  es impar\n",
      "16  es par\n",
      "17  es impar\n",
      "18  es par\n",
      "19  es impar\n",
      "20  es par\n"
     ]
    }
   ],
   "source": [
    "numeros = 1\n",
    "while numeros < 21:\n",
    "    if (numeros % 2) == 0:\n",
    "        print(numeros,' es par')\n",
    "    else:\n",
    "        print(numeros,' es impar')\n",
    "    numeros += 1"
   ]
  },
  {
   "attachments": {},
   "cell_type": "markdown",
   "metadata": {},
   "source": [
    "4) En un ciclo for mostrar para los valores entre 0 y 5 el resultado de elevarlo a la potencia igual a 3"
   ]
  },
  {
   "cell_type": "code",
   "execution_count": 37,
   "metadata": {},
   "outputs": [
    {
     "name": "stdout",
     "output_type": "stream",
     "text": [
      "1\n",
      "8\n",
      "27\n",
      "64\n",
      "125\n"
     ]
    }
   ],
   "source": [
    "numeros = 0\n",
    "for i in range(0,5):\n",
    "    print((i+1)**3)"
   ]
  },
  {
   "attachments": {},
   "cell_type": "markdown",
   "metadata": {},
   "source": [
    "5) Crear una variable que contenga un número entero y realizar un ciclo for la misma cantidad de ciclos"
   ]
  },
  {
   "cell_type": "code",
   "execution_count": 42,
   "metadata": {},
   "outputs": [
    {
     "name": "stdout",
     "output_type": "stream",
     "text": [
      "0\n",
      "1\n",
      "2\n",
      "3\n",
      "4\n",
      "5\n",
      "6\n",
      "7\n",
      "8\n",
      "9\n",
      "10\n",
      "11\n",
      "12\n",
      "13\n",
      "14\n",
      "15\n",
      "16\n",
      "17\n",
      "18\n",
      "19\n",
      "20\n",
      "21\n",
      "22\n",
      "23\n",
      "24\n",
      "25\n",
      "26\n",
      "27\n",
      "28\n",
      "29\n",
      "30\n",
      "31\n",
      "32\n",
      "33\n",
      "34\n",
      "35\n",
      "36\n",
      "37\n",
      "38\n",
      "39\n",
      "40\n",
      "41\n",
      "42\n",
      "43\n",
      "44\n",
      "45\n",
      "46\n",
      "47\n",
      "48\n",
      "49\n",
      "50\n",
      "51\n",
      "52\n",
      "53\n",
      "54\n",
      "55\n",
      "56\n",
      "57\n",
      "58\n",
      "59\n",
      "60\n",
      "61\n",
      "62\n",
      "63\n",
      "64\n",
      "65\n",
      "66\n",
      "67\n",
      "68\n",
      "69\n",
      "70\n",
      "71\n",
      "72\n",
      "73\n",
      "74\n",
      "75\n",
      "76\n",
      "77\n",
      "78\n",
      "79\n",
      "80\n",
      "81\n",
      "82\n",
      "83\n",
      "84\n",
      "85\n",
      "86\n",
      "87\n",
      "88\n",
      "89\n",
      "90\n",
      "91\n",
      "92\n",
      "93\n",
      "94\n",
      "95\n",
      "96\n",
      "97\n",
      "98\n",
      "99\n",
      "100\n",
      "101\n",
      "102\n",
      "103\n",
      "104\n",
      "105\n",
      "106\n",
      "107\n",
      "108\n",
      "109\n",
      "110\n",
      "111\n",
      "112\n",
      "113\n",
      "114\n",
      "115\n",
      "116\n",
      "117\n",
      "118\n",
      "119\n",
      "120\n",
      "121\n",
      "122\n",
      "123\n"
     ]
    }
   ],
   "source": [
    "contador = 123\n",
    "for i in range(0,contador+1):\n",
    "    print(i)"
   ]
  },
  {
   "attachments": {},
   "cell_type": "markdown",
   "metadata": {},
   "source": [
    "6) Utilizar un ciclo while para realizar el factorial de un número guardado en una variable, sólo si la variable contiene un número entero mayor a 0"
   ]
  },
  {
   "cell_type": "code",
   "execution_count": 65,
   "metadata": {},
   "outputs": [
    {
     "name": "stdout",
     "output_type": "stream",
     "text": [
      "El factorial de 3 es 6\n"
     ]
    }
   ],
   "source": [
    "numero=input('Ingrese un numero positivo mayor a 0')\n",
    "numero = numero1 = int(numero)\n",
    "resultado = 1\n",
    "\n",
    "if (numero > 0):\n",
    "    while numero != 0:\n",
    "        resultado*=(numero)\n",
    "        numero-=1\n",
    "    print(f'El factorial de {numero1} es {resultado}')"
   ]
  },
  {
   "attachments": {},
   "cell_type": "markdown",
   "metadata": {},
   "source": [
    "7) Crear un ciclo for dentro de un ciclo while"
   ]
  },
  {
   "cell_type": "code",
   "execution_count": 79,
   "metadata": {},
   "outputs": [
    {
     "name": "stdout",
     "output_type": "stream",
     "text": [
      "Iteracion numero 3 del while\n",
      "Iteracion numero 3 del For\n",
      "Iteracion numero 2 del For\n",
      "Iteracion numero 1 del For\n",
      "Iteracion numero 2 del while\n",
      "Iteracion numero 3 del For\n",
      "Iteracion numero 2 del For\n",
      "Iteracion numero 1 del For\n",
      "Iteracion numero 1 del while\n",
      "Iteracion numero 3 del For\n",
      "Iteracion numero 2 del For\n",
      "Iteracion numero 1 del For\n"
     ]
    }
   ],
   "source": [
    "numero = numeroFor =3\n",
    "while (numero > 0):\n",
    "    print(f\"Iteracion numero {numero} del while\")\n",
    "    for i in range(numeroFor):\n",
    "        print(f\"Iteracion numero {numeroFor} del For\")\n",
    "        numeroFor -= 1\n",
    "    numeroFor = 3\n",
    "    numero -= 1\n"
   ]
  },
  {
   "attachments": {},
   "cell_type": "markdown",
   "metadata": {},
   "source": [
    "8) Crear un ciclo while dentro de un ciclo for"
   ]
  },
  {
   "cell_type": "code",
   "execution_count": 80,
   "metadata": {},
   "outputs": [
    {
     "name": "stdout",
     "output_type": "stream",
     "text": [
      "Iteracion numero 3 del For\n",
      "Iteracion numero 3 del While\n",
      "Iteracion numero 2 del While\n",
      "Iteracion numero 1 del While\n",
      "Iteracion numero 3 del For\n",
      "Iteracion numero 3 del While\n",
      "Iteracion numero 2 del While\n",
      "Iteracion numero 1 del While\n",
      "Iteracion numero 3 del For\n",
      "Iteracion numero 3 del While\n",
      "Iteracion numero 2 del While\n",
      "Iteracion numero 1 del While\n",
      "Iteracion numero 3 del For\n",
      "Iteracion numero 3 del While\n",
      "Iteracion numero 2 del While\n",
      "Iteracion numero 1 del While\n"
     ]
    }
   ],
   "source": [
    "numero = numeroWhile = 3\n",
    "for i in range(numero+1):\n",
    "    print(f\"Iteracion numero {numero} del For\")\n",
    "    while numeroWhile > 0:\n",
    "        print(f\"Iteracion numero {numeroWhile} del While\")\n",
    "        numeroWhile -= 1\n",
    "    numeroFor -= 1\n",
    "    numeroWhile = 3"
   ]
  },
  {
   "attachments": {},
   "cell_type": "markdown",
   "metadata": {},
   "source": [
    "9) Imprimir los números primos existentes entre 0 y 30"
   ]
  },
  {
   "cell_type": "code",
   "execution_count": 14,
   "metadata": {},
   "outputs": [
    {
     "name": "stdout",
     "output_type": "stream",
     "text": [
      "0  es primo\n",
      "1  es primo\n",
      "2  es primo\n",
      "3  es primo\n",
      "5  es primo\n",
      "7  es primo\n",
      "11  es primo\n",
      "13  es primo\n",
      "17  es primo\n",
      "19  es primo\n",
      "23  es primo\n",
      "29  es primo\n",
      "31  es primo\n",
      "37  es primo\n",
      "41  es primo\n",
      "43  es primo\n",
      "47  es primo\n",
      "53  es primo\n",
      "59  es primo\n",
      "61  es primo\n",
      "67  es primo\n",
      "71  es primo\n",
      "73  es primo\n",
      "79  es primo\n",
      "83  es primo\n",
      "89  es primo\n",
      "97  es primo\n"
     ]
    }
   ],
   "source": [
    "numero = div = 0\n",
    "while numero <= 100:\n",
    "    if numero > 1:\n",
    "        for i in range(2,numero+1):\n",
    "            if numero != i and numero%i == 0:\n",
    "                div = i\n",
    "                #print(numero,' no es primo es divisible por ',i)\n",
    "                break\n",
    "    if div == 0:\n",
    "        print(numero,' es primo')\n",
    "    numero +=1\n",
    "    div = 0\n",
    "    "
   ]
  },
  {
   "attachments": {},
   "cell_type": "markdown",
   "metadata": {},
   "source": [
    "10) ¿Se puede mejorar el proceso del punto 9? Utilizar las sentencias break y/ó continue para tal fin"
   ]
  },
  {
   "cell_type": "code",
   "execution_count": null,
   "metadata": {},
   "outputs": [],
   "source": [
    "Tarde"
   ]
  },
  {
   "attachments": {},
   "cell_type": "markdown",
   "metadata": {},
   "source": [
    "11) En los puntos 9 y 10, se diseño un código que encuentra números primos y además se lo optimizó. ¿Es posible saber en qué medida se optimizó?"
   ]
  },
  {
   "cell_type": "code",
   "execution_count": null,
   "metadata": {},
   "outputs": [],
   "source": [
    "Si, por la cantidad de loops que realiza"
   ]
  },
  {
   "attachments": {},
   "cell_type": "markdown",
   "metadata": {},
   "source": [
    "12) Si la cantidad de números que se evalúa es mayor a treinta, esa optimización crece?"
   ]
  },
  {
   "cell_type": "code",
   "execution_count": null,
   "metadata": {},
   "outputs": [],
   "source": [
    "Sip"
   ]
  },
  {
   "attachments": {},
   "cell_type": "markdown",
   "metadata": {},
   "source": [
    "13) Aplicando continue, armar un ciclo while que solo imprima los valores divisibles por 12, dentro del rango de números de 100 a 300"
   ]
  },
  {
   "cell_type": "code",
   "execution_count": 17,
   "metadata": {},
   "outputs": [
    {
     "name": "stdout",
     "output_type": "stream",
     "text": [
      "108\n",
      "120\n",
      "132\n",
      "144\n",
      "156\n",
      "168\n",
      "180\n",
      "192\n",
      "204\n",
      "216\n",
      "228\n",
      "240\n",
      "252\n",
      "264\n",
      "276\n",
      "288\n",
      "300\n"
     ]
    }
   ],
   "source": [
    "numero = 100\n",
    "\n",
    "while numero <= 300:\n",
    "    if numero % 12 == 0:\n",
    "        print(numero)\n",
    "    numero += 1"
   ]
  },
  {
   "attachments": {},
   "cell_type": "markdown",
   "metadata": {},
   "source": [
    "14) Utilizar la función **input()** que permite hacer ingresos por teclado, para encontrar números primos y dar la opción al usario de buscar el siguiente"
   ]
  },
  {
   "cell_type": "code",
   "execution_count": 20,
   "metadata": {},
   "outputs": [
    {
     "name": "stdout",
     "output_type": "stream",
     "text": [
      "2  es primo\n",
      "3  es primo\n",
      "5  es primo\n",
      "7  es primo\n",
      "11  es primo\n",
      "13  es primo\n",
      "17  es primo\n",
      "19  es primo\n",
      "23  es primo\n",
      "29  es primo\n",
      "31  es primo\n",
      "37  es primo\n",
      "41  es primo\n",
      "43  es primo\n",
      "47  es primo\n",
      "53  es primo\n",
      "59  es primo\n",
      "61  es primo\n",
      "67  es primo\n",
      "71  es primo\n",
      "73  es primo\n",
      "79  es primo\n",
      "83  es primo\n",
      "89  es primo\n",
      "97  es primo\n"
     ]
    }
   ],
   "source": [
    "numero = 0\n",
    "decision = input(\"¿Desea buscar números primos? (y/n): \")\n",
    "\n",
    "while decision.lower() == 'y':\n",
    "    \n",
    "    es_primo = True\n",
    "    \n",
    "    if numero > 1:\n",
    "        for i in range(2,numero):\n",
    "            if numero != i and numero%i == 0:\n",
    "                es_primo = False\n",
    "                continue\n",
    "    \n",
    "    if es_primo and numero>1:\n",
    "        print(numero,' es primo')\n",
    "        decision = input(\"¿Desea buscar números primos? (y/n): \")\n",
    "        \n",
    "    numero +=1"
   ]
  },
  {
   "attachments": {},
   "cell_type": "markdown",
   "metadata": {},
   "source": [
    "15) Crear un ciclo while que encuentre dentro del rango de 100 a 300 el primer número divisible por 3 y además múltiplo de 6"
   ]
  },
  {
   "cell_type": "code",
   "execution_count": 27,
   "metadata": {},
   "outputs": [
    {
     "name": "stdout",
     "output_type": "stream",
     "text": [
      "102 es divisible de 3 y multiplo de 6\n",
      "108 es divisible de 3 y multiplo de 6\n",
      "114 es divisible de 3 y multiplo de 6\n",
      "120 es divisible de 3 y multiplo de 6\n",
      "126 es divisible de 3 y multiplo de 6\n",
      "132 es divisible de 3 y multiplo de 6\n",
      "138 es divisible de 3 y multiplo de 6\n",
      "144 es divisible de 3 y multiplo de 6\n",
      "150 es divisible de 3 y multiplo de 6\n",
      "156 es divisible de 3 y multiplo de 6\n",
      "162 es divisible de 3 y multiplo de 6\n",
      "168 es divisible de 3 y multiplo de 6\n",
      "174 es divisible de 3 y multiplo de 6\n",
      "180 es divisible de 3 y multiplo de 6\n",
      "186 es divisible de 3 y multiplo de 6\n",
      "192 es divisible de 3 y multiplo de 6\n",
      "198 es divisible de 3 y multiplo de 6\n",
      "204 es divisible de 3 y multiplo de 6\n",
      "210 es divisible de 3 y multiplo de 6\n",
      "216 es divisible de 3 y multiplo de 6\n",
      "222 es divisible de 3 y multiplo de 6\n",
      "228 es divisible de 3 y multiplo de 6\n",
      "234 es divisible de 3 y multiplo de 6\n",
      "240 es divisible de 3 y multiplo de 6\n",
      "246 es divisible de 3 y multiplo de 6\n",
      "252 es divisible de 3 y multiplo de 6\n",
      "258 es divisible de 3 y multiplo de 6\n",
      "264 es divisible de 3 y multiplo de 6\n",
      "270 es divisible de 3 y multiplo de 6\n",
      "276 es divisible de 3 y multiplo de 6\n",
      "282 es divisible de 3 y multiplo de 6\n",
      "288 es divisible de 3 y multiplo de 6\n",
      "294 es divisible de 3 y multiplo de 6\n",
      "300 es divisible de 3 y multiplo de 6\n"
     ]
    }
   ],
   "source": [
    "numero = 100\n",
    "while numero > 99 and numero < 301:\n",
    "    if numero % 3 == 0 and numero % 6 == 0:\n",
    "        print(numero, 'es divisible de 3 y multiplo de 6')\n",
    "    numero += 1"
   ]
  }
 ],
 "metadata": {
  "interpreter": {
   "hash": "c85384e4cb51c8b72350f3a8712cc8351fdc3955e32a27f9b60c6242ab125f01"
  },
  "kernelspec": {
   "display_name": "Python 3 (ipykernel)",
   "language": "python",
   "name": "python3"
  },
  "language_info": {
   "codemirror_mode": {
    "name": "ipython",
    "version": 3
   },
   "file_extension": ".py",
   "mimetype": "text/x-python",
   "name": "python",
   "nbconvert_exporter": "python",
   "pygments_lexer": "ipython3",
   "version": "3.10.11"
  }
 },
 "nbformat": 4,
 "nbformat_minor": 4
}
