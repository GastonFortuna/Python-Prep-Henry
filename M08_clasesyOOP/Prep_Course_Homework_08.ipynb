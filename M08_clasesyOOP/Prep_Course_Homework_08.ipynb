{
 "cells": [
  {
   "attachments": {},
   "cell_type": "markdown",
   "metadata": {},
   "source": [
    "## Clases y Programación Orientada a Objetos"
   ]
  },
  {
   "attachments": {},
   "cell_type": "markdown",
   "metadata": {},
   "source": [
    "1) Crear la clase vehículo que contenga los atributos:<br>\n",
    "Color<br>\n",
    "Si es moto, auto, camioneta ó camión<br>\n",
    "Cilindrada del motor"
   ]
  },
  {
   "cell_type": "code",
   "execution_count": 15,
   "metadata": {},
   "outputs": [
    {
     "name": "stdout",
     "output_type": "stream",
     "text": [
      "Es un/una moto de color rojo y de 1.6 CM3\n"
     ]
    }
   ],
   "source": [
    "class vehiculo():\n",
    "    def __init__(self, tipo:str, cilindrada:int, color:str):\n",
    "        self.tipo = tipo\n",
    "        self.cilindrada = cilindrada\n",
    "        self.color = color\n",
    "        \n",
    "    def __str__(self):\n",
    "        return f\"Es un/una {self.tipo} de color {self.color} y de {self.cilindrada} CM3\"\n",
    "    \n",
    "    def acelerar(self):\n",
    "        return f\"Estoy acelerando viejoooo\"\n",
    "    \n",
    "    def frenar(self):\n",
    "        return f'Estoy frenando viejooo'\n",
    "    \n",
    "    def doblar(self):\n",
    "        return f'Estoy doblandooooo'\n",
    "    \n",
    "movil1 = vehiculo('moto','1.6','rojo')\n",
    "print(movil1)\n"
   ]
  },
  {
   "attachments": {},
   "cell_type": "markdown",
   "metadata": {},
   "source": [
    "2) A la clase Vehiculo creada en el punto 1, agregar los siguientes métodos:<br>\n",
    "Acelerar<br>\n",
    "Frenar<br>\n",
    "Doblar<br>"
   ]
  },
  {
   "cell_type": "code",
   "execution_count": 16,
   "metadata": {},
   "outputs": [
    {
     "name": "stdout",
     "output_type": "stream",
     "text": [
      "Estoy acelerando viejoooo\n",
      "Estoy frenando viejooo\n",
      "Estoy doblandooooo\n"
     ]
    }
   ],
   "source": [
    "print(movil1.acelerar())\n",
    "print(movil1.frenar())\n",
    "print(movil1.doblar())"
   ]
  },
  {
   "attachments": {},
   "cell_type": "markdown",
   "metadata": {},
   "source": [
    "3) Instanciar 3 objetos de la clase vehículo y ejecutar sus métodos, probar luego el resultado"
   ]
  },
  {
   "cell_type": "code",
   "execution_count": null,
   "metadata": {},
   "outputs": [],
   "source": [
    "list = ['']"
   ]
  },
  {
   "attachments": {},
   "cell_type": "markdown",
   "metadata": {},
   "source": [
    "4) Agregar a la clase Vehiculo, un método que muestre su estado, es decir, a que velocidad se encuentra y su dirección. Y otro método que muestre color, tipo y cilindrada"
   ]
  },
  {
   "cell_type": "code",
   "execution_count": null,
   "metadata": {},
   "outputs": [],
   "source": []
  },
  {
   "attachments": {},
   "cell_type": "markdown",
   "metadata": {},
   "source": [
    "5) Crear una clase que permita utilizar las funciones creadas en la práctica del módulo 7<br>\n",
    "Verificar Primo<br>\n",
    "Valor modal<br>\n",
    "Conversión grados<br>\n",
    "Factorial<br>"
   ]
  },
  {
   "cell_type": "code",
   "execution_count": 56,
   "metadata": {},
   "outputs": [],
   "source": [
    "class formulas():\n",
    "    def __init__(self):\n",
    "        pass\n",
    "    \n",
    "    def esPrimo(self,num:int) :\n",
    "        if num < 2:\n",
    "            return False\n",
    "        for i in range(2,num+1):\n",
    "            if i !=num and num % i == 0:\n",
    "                return False\n",
    "        return True\n",
    "    \n",
    "    def factorial(self, num:int):\n",
    "        if type(num) != int:\n",
    "            raise Exception('Necesitamos un INT')\n",
    "        if num < 0:\n",
    "            raise Exception('Necesitamos numero positivo mayor a 0')\n",
    "        if num == 0 or num == 1:\n",
    "            return 1\n",
    "        else:\n",
    "            return num * self.factorial(num-1)\n",
    "        \n",
    "    def contarRepetidos(self,lista):\n",
    "        repetidos = []\n",
    "        count = 0\n",
    "        for i in lista:\n",
    "            if lista.count(i) > count:\n",
    "                repetidos = [i]\n",
    "                count = lista.count(i)\n",
    "        for i in lista:\n",
    "            if i != repetidos[0] and lista.count(i) == count:\n",
    "                if i in repetidos:\n",
    "                    pass\n",
    "                else:\n",
    "                    repetidos.append(i)\n",
    "        return count,repetidos\n",
    "    \n",
    "    def conversor(self, num:float,origen:str,destino:str):\n",
    "        if destino == 'F':\n",
    "            return ((num * 9/5)+32),'F'\n",
    "        elif destino == 'K':\n",
    "            return (num + 273.15),'K'"
   ]
  },
  {
   "attachments": {},
   "cell_type": "markdown",
   "metadata": {},
   "source": [
    "6) Probar las funciones incorporadas en la clase del punto 5"
   ]
  },
  {
   "cell_type": "code",
   "execution_count": 57,
   "metadata": {},
   "outputs": [
    {
     "name": "stdout",
     "output_type": "stream",
     "text": [
      "False\n",
      "120\n",
      "[3, [18, 21, 0]]\n",
      "3\n",
      "18\n",
      "(89.6, 'F')\n",
      "(305.15, 'K')\n"
     ]
    }
   ],
   "source": [
    "print(formulas().esPrimo(6))\n",
    "print(formulas().factorial(5))\n",
    "\n",
    "lis = [18,18,18,21,21,21,29,29,32,35,42,56,60,63,71,84,90,91,100,0,0,0]\n",
    "listRepetidos = list(formulas().contarRepetidos(lis))\n",
    "print(listRepetidos)\n",
    "print(listRepetidos[0])\n",
    "print(listRepetidos[1][0])\n",
    "\n",
    "print(formulas().conversor(32,'C','F'))\n",
    "print(formulas().conversor(32,'C','K'))"
   ]
  },
  {
   "attachments": {},
   "cell_type": "markdown",
   "metadata": {},
   "source": [
    "7) Es necesario que la clase creada en el punto 5 contenga una lista, sobre la cual se apliquen las funciones incorporadas"
   ]
  },
  {
   "cell_type": "code",
   "execution_count": 81,
   "metadata": {},
   "outputs": [],
   "source": [
    "class formulasList():\n",
    "    def __init__(self,lista_numeros):\n",
    "        self.lista = lista_numeros\n",
    "        \n",
    "    def esPrimoList(self):\n",
    "        resultados = []\n",
    "        for num in self.lista:\n",
    "            if self.esPrimo(num):\n",
    "                resultados.append(f'El número {num} es primo')\n",
    "            else:\n",
    "                resultados.append(f'El número {num} no es primo')\n",
    "        return resultados\n",
    "        \n",
    "    def factorialList(self):\n",
    "        resultados = []\n",
    "        for i in self.lista:\n",
    "            resultados.append(f'El factorial de {i} es {self.factorial(i)}')\n",
    "        return resultados\n",
    "    \n",
    "    def esPrimo(self,num:int) :\n",
    "        if num < 2:\n",
    "            return False\n",
    "        for i in range(2,num+1):\n",
    "            if i !=num and num % i == 0:\n",
    "                return False\n",
    "        return True\n",
    "        \n",
    "    def factorial(self, num:int):\n",
    "        if type(num) != int:\n",
    "            raise Exception('Necesitamos un INT')\n",
    "        if num < 0:\n",
    "            raise Exception('Necesitamos numero positivo mayor a 0')\n",
    "        if num == 0 or num == 1:\n",
    "            return 1\n",
    "        else:\n",
    "            return num * self.factorial(num-1)\n",
    "        \n",
    "    def contarRepetidos(self,lista):\n",
    "        repetidos = []\n",
    "        count = 0\n",
    "        for i in lista:\n",
    "            if lista.count(i) > count:\n",
    "                repetidos = [i]\n",
    "                count = lista.count(i)\n",
    "        for i in lista:\n",
    "            if i != repetidos[0] and lista.count(i) == count:\n",
    "                if i in repetidos:\n",
    "                    pass\n",
    "                else:\n",
    "                    repetidos.append(i)\n",
    "        return count,repetidos\n",
    "    \n",
    "    def conversor(self, num:float,origen:str,destino:str):\n",
    "        if destino == 'F':\n",
    "            return ((num * 9/5)+32),'F'\n",
    "        elif destino == 'K':\n",
    "            return (num + 273.15),'K'"
   ]
  },
  {
   "cell_type": "code",
   "execution_count": 82,
   "metadata": {},
   "outputs": [
    {
     "data": {
      "text/plain": [
       "['El número 18 no es primo',\n",
       " 'El número 18 no es primo',\n",
       " 'El número 18 no es primo',\n",
       " 'El número 21 no es primo',\n",
       " 'El número 21 no es primo',\n",
       " 'El número 21 no es primo',\n",
       " 'El número 29 es primo',\n",
       " 'El número 29 es primo',\n",
       " 'El número 32 no es primo',\n",
       " 'El número 35 no es primo',\n",
       " 'El número 42 no es primo',\n",
       " 'El número 56 no es primo',\n",
       " 'El número 60 no es primo',\n",
       " 'El número 63 no es primo',\n",
       " 'El número 71 es primo',\n",
       " 'El número 84 no es primo',\n",
       " 'El número 90 no es primo',\n",
       " 'El número 91 no es primo',\n",
       " 'El número 100 no es primo',\n",
       " 'El número 0 no es primo',\n",
       " 'El número 0 no es primo',\n",
       " 'El número 0 no es primo']"
      ]
     },
     "execution_count": 82,
     "metadata": {},
     "output_type": "execute_result"
    }
   ],
   "source": [
    "lis = [18,18,18,21,21,21,29,29,32,35,42,56,60,63,71,84,90,91,100,0,0,0]\n",
    "formulasList(lis).esPrimoList()"
   ]
  },
  {
   "cell_type": "code",
   "execution_count": 83,
   "metadata": {},
   "outputs": [
    {
     "data": {
      "text/plain": [
       "['El factorial de 0 es 1',\n",
       " 'El factorial de 1 es 1',\n",
       " 'El factorial de 2 es 2',\n",
       " 'El factorial de 3 es 6',\n",
       " 'El factorial de 4 es 24',\n",
       " 'El factorial de 5 es 120']"
      ]
     },
     "execution_count": 83,
     "metadata": {},
     "output_type": "execute_result"
    }
   ],
   "source": [
    "lis = [0,1,2,3,4,5]\n",
    "formulasList(lis).factorialList()"
   ]
  },
  {
   "attachments": {},
   "cell_type": "markdown",
   "metadata": {},
   "source": [
    "8) Crear un archivo .py aparte y ubicar allí la clase generada en el punto anterior. Luego realizar la importación del módulo y probar alguna de sus funciones"
   ]
  },
  {
   "cell_type": "code",
   "execution_count": null,
   "metadata": {},
   "outputs": [],
   "source": []
  }
 ],
 "metadata": {
  "interpreter": {
   "hash": "c85384e4cb51c8b72350f3a8712cc8351fdc3955e32a27f9b60c6242ab125f01"
  },
  "kernelspec": {
   "display_name": "Python 3 (ipykernel)",
   "language": "python",
   "name": "python3"
  },
  "language_info": {
   "codemirror_mode": {
    "name": "ipython",
    "version": 3
   },
   "file_extension": ".py",
   "mimetype": "text/x-python",
   "name": "python",
   "nbconvert_exporter": "python",
   "pygments_lexer": "ipython3",
   "version": "3.10.11"
  }
 },
 "nbformat": 4,
 "nbformat_minor": 4
}
