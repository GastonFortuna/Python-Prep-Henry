{
 "cells": [
  {
   "attachments": {},
   "cell_type": "markdown",
   "metadata": {},
   "source": [
    "## Funciones"
   ]
  },
  {
   "attachments": {},
   "cell_type": "markdown",
   "metadata": {},
   "source": [
    "1) Crear una función que reciba un número como parámetro y devuelva True si es primo y False si no lo es"
   ]
  },
  {
   "cell_type": "code",
   "execution_count": 7,
   "metadata": {},
   "outputs": [
    {
     "name": "stdout",
     "output_type": "stream",
     "text": [
      "18 False\n",
      "21 False\n",
      "29 True\n",
      "32 False\n",
      "35 False\n",
      "42 False\n",
      "56 False\n",
      "60 False\n",
      "63 False\n",
      "71 True\n",
      "84 False\n",
      "90 False\n",
      "91 False\n",
      "100 False\n"
     ]
    }
   ],
   "source": [
    "def esPrimo(num):\n",
    "    if num < 2:\n",
    "        return False\n",
    "    for i in range(2,num+1):\n",
    "        if i !=num and num % i == 0:\n",
    "            return False\n",
    "    return True\n",
    "\n",
    "lis = [18,21,29,32,35,42,56,60,63,71,84,90,91,100]\n",
    "for i in lis:\n",
    "    print(i,esPrimo(i))"
   ]
  },
  {
   "attachments": {},
   "cell_type": "markdown",
   "metadata": {},
   "source": [
    "2) Utilizando la función del punto 1, realizar otra función que reciba de parámetro una lista de números y devuelva sólo aquellos que son primos en otra lista"
   ]
  },
  {
   "cell_type": "code",
   "execution_count": 8,
   "metadata": {},
   "outputs": [
    {
     "name": "stdout",
     "output_type": "stream",
     "text": [
      "[29, 71]\n"
     ]
    }
   ],
   "source": [
    "def ordenar(lista):\n",
    "    listaPrimos = []\n",
    "    for i in lista:\n",
    "        if esPrimo(i):\n",
    "            listaPrimos.append(i)\n",
    "    return listaPrimos\n",
    "            \n",
    "lis = [18,21,29,32,35,42,56,60,63,71,84,90,91,100]\n",
    "print(ordenar(lis))\n"
   ]
  },
  {
   "attachments": {},
   "cell_type": "markdown",
   "metadata": {},
   "source": [
    "3) Crear una función que al recibir una lista de números, devuelva el que más se repite y cuántas veces lo hace. Si hay más de un \"más repetido\", que devuelva cualquiera"
   ]
  },
  {
   "cell_type": "code",
   "execution_count": 9,
   "metadata": {},
   "outputs": [
    {
     "name": "stdout",
     "output_type": "stream",
     "text": [
      "[3, [18, 21, 0]]\n",
      "3\n",
      "18\n"
     ]
    }
   ],
   "source": [
    "def contarRepetidos(lista):\n",
    "    repetidos = []\n",
    "    count = 0\n",
    "    for i in lista:\n",
    "        if lista.count(i) > count:\n",
    "            repetidos = [i]\n",
    "            count = lista.count(i)\n",
    "    for i in lista:\n",
    "        if i != repetidos[0] and lista.count(i) == count:\n",
    "            if i in repetidos:\n",
    "                pass\n",
    "            else:\n",
    "                repetidos.append(i)\n",
    "    return count,repetidos\n",
    "\n",
    "lis = [18,18,18,21,21,21,29,29,32,35,42,56,60,63,71,84,90,91,100,0,0,0]\n",
    "listRepetidos = list(contarRepetidos(lis))\n",
    "\n",
    "print(listRepetidos)\n",
    "print(listRepetidos[0])\n",
    "print(listRepetidos[1][0])\n"
   ]
  },
  {
   "attachments": {},
   "cell_type": "markdown",
   "metadata": {},
   "source": [
    "4) A la función del punto 3, agregar un parámetro más, que permita elegir si se requiere el menor o el mayor de los mas repetidos."
   ]
  },
  {
   "cell_type": "code",
   "execution_count": 5,
   "metadata": {},
   "outputs": [
    {
     "name": "stdout",
     "output_type": "stream",
     "text": [
      "100\n",
      "0\n"
     ]
    }
   ],
   "source": [
    "def contarRepetidosSort(lista,sort):\n",
    "    repetidos = []\n",
    "    count = 0\n",
    "    for i in lista:\n",
    "        if lista.count(i) > count:\n",
    "            repetidos = [i]\n",
    "            count = lista.count(i)\n",
    "    for i in lista:\n",
    "        if i != repetidos[0] and lista.count(i) == count:\n",
    "            if i in repetidos:\n",
    "                pass\n",
    "            else:\n",
    "                repetidos.append(i)\n",
    "    repetidos.sort()\n",
    "    if sort == 0:\n",
    "        return repetidos[-1]\n",
    "    else:\n",
    "        return repetidos[0]\n",
    "    \n",
    "lis = [18,18,18,21,21,21,29,29,32,35,42,56,60,63,71,84,90,91,100,0,0,0,100,100]\n",
    "print(contarRepetidosSort(lis,0))\n",
    "print(contarRepetidosSort(lis,1))"
   ]
  },
  {
   "cell_type": "code",
   "execution_count": 64,
   "metadata": {},
   "outputs": [
    {
     "name": "stdout",
     "output_type": "stream",
     "text": [
      "{0: 0, 2: 0, 1: 0, 3: 0, 4: 0}\n",
      "i 0 lista[i] 0 repeticiones[lista[i]] 1\n",
      "i 1 lista[i] 0 repeticiones[lista[i]] 2\n",
      "i 2 lista[i] 2 repeticiones[lista[i]] 1\n",
      "i 3 lista[i] 0 repeticiones[lista[i]] 3\n",
      "i 4 lista[i] 0 repeticiones[lista[i]] 4\n",
      "i 5 lista[i] 1 repeticiones[lista[i]] 1\n",
      "i 6 lista[i] 2 repeticiones[lista[i]] 2\n",
      "i 7 lista[i] 3 repeticiones[lista[i]] 1\n",
      "i 8 lista[i] 3 repeticiones[lista[i]] 2\n",
      "i 9 lista[i] 3 repeticiones[lista[i]] 3\n",
      "i 10 lista[i] 3 repeticiones[lista[i]] 4\n",
      "i 11 lista[i] 3 repeticiones[lista[i]] 5\n",
      "i 12 lista[i] 4 repeticiones[lista[i]] 1\n",
      "i 13 lista[i] 4 repeticiones[lista[i]] 2\n",
      "i 14 lista[i] 4 repeticiones[lista[i]] 3\n",
      "i 15 lista[i] 2 repeticiones[lista[i]] 3\n",
      "i 16 lista[i] 2 repeticiones[lista[i]] 4\n",
      "i 17 lista[i] 2 repeticiones[lista[i]] 5\n",
      "i 18 lista[i] 2 repeticiones[lista[i]] 6\n",
      "i 19 lista[i] 2 repeticiones[lista[i]] 7\n",
      "i 20 lista[i] 2 repeticiones[lista[i]] 8\n",
      "i 21 lista[i] 2 repeticiones[lista[i]] 9\n",
      "{0: 4, 2: 9, 1: 1, 3: 5, 4: 3}\n",
      "El numero mas repetido es 2 y se repite 9\n"
     ]
    }
   ],
   "source": [
    "def mas_repetido(lista):\n",
    "    lista = mi_lista\n",
    "    repeticiones = {}\n",
    "    max = 0\n",
    "    \n",
    "    for i in range(len(lista)):\n",
    "        repeticiones[lista[i]] = 0\n",
    "    print(repeticiones)\n",
    "    \n",
    "    for i in range(len(lista)):\n",
    "        repeticiones[lista[i]] += 1\n",
    "        print('i',i,'lista[i]',lista[i],'repeticiones[lista[i]]',repeticiones[lista[i]])\n",
    "        \n",
    "        if repeticiones[lista[i]] > max:\n",
    "            max = lista[i]\n",
    "        \n",
    "    print(repeticiones)\n",
    "    return f'El numero mas repetido es {max} y se repite {repeticiones[max]}'\n",
    "\n",
    "mi_lista = [0,0,2,0,0,1,2,3,3,3,3,3,4,4,4,2,2,2,2,2,2,2]\n",
    "print(mas_repetido(mi_lista))"
   ]
  },
  {
   "attachments": {},
   "cell_type": "markdown",
   "metadata": {},
   "source": [
    "5) Crear una función que convierta entre grados Celsius, Farenheit y Kelvin<br>\n",
    "Fórmula 1\t: (°C × 9/5) + 32 = °F<br>\n",
    "Fórmula 2\t: °C + 273.15 = °K<br>\n",
    "Debe recibir 3 parámetros: el valor, la medida de orígen y la medida de destino\n"
   ]
  },
  {
   "cell_type": "code",
   "execution_count": 109,
   "metadata": {},
   "outputs": [
    {
     "name": "stdout",
     "output_type": "stream",
     "text": [
      "(89.6, 'F')\n",
      "(305.15, 'K')\n"
     ]
    }
   ],
   "source": [
    "def conversor(num:float,origen:str,destino:str):\n",
    "    if destino == 'F':\n",
    "        return ((num * 9/5)+32),'F'\n",
    "    elif destino == 'K':\n",
    "        return (num + 273.15),'K'\n",
    "\n",
    "print(conversor(32,'C','F'))\n",
    "print(conversor(32,'C','K'))"
   ]
  },
  {
   "attachments": {},
   "cell_type": "markdown",
   "metadata": {},
   "source": [
    "6) Iterando una lista con los tres valores posibles de temperatura que recibe la función del punto 5, hacer un print para cada combinación de los mismos:"
   ]
  },
  {
   "cell_type": "code",
   "execution_count": null,
   "metadata": {},
   "outputs": [],
   "source": []
  },
  {
   "attachments": {},
   "cell_type": "markdown",
   "metadata": {},
   "source": [
    "7) Armar una función que devuelva el factorial de un número. Tener en cuenta que el usuario puede equivocarse y enviar de parámetro un número no entero o negativo"
   ]
  },
  {
   "cell_type": "code",
   "execution_count": 3,
   "metadata": {},
   "outputs": [
    {
     "data": {
      "text/plain": [
       "720"
      ]
     },
     "execution_count": 3,
     "metadata": {},
     "output_type": "execute_result"
    }
   ],
   "source": [
    "def factorial(num:int):\n",
    "    resultado = 0\n",
    "    if type(num) != int:\n",
    "        raise Exception('Necesitamos un INT')\n",
    "    if num < 0:\n",
    "        raise Exception('Necesitamos numero positivo mayor a 0')\n",
    "    if num == 0 or num == 1:\n",
    "        resultado = 1\n",
    "        return resultado\n",
    "    else:\n",
    "        return num * factorial(num-1)\n",
    "        \n",
    "factorial(6)"
   ]
  }
 ],
 "metadata": {
  "interpreter": {
   "hash": "c85384e4cb51c8b72350f3a8712cc8351fdc3955e32a27f9b60c6242ab125f01"
  },
  "kernelspec": {
   "display_name": "Python 3 (ipykernel)",
   "language": "python",
   "name": "python3"
  },
  "language_info": {
   "codemirror_mode": {
    "name": "ipython",
    "version": 3
   },
   "file_extension": ".py",
   "mimetype": "text/x-python",
   "name": "python",
   "nbconvert_exporter": "python",
   "pygments_lexer": "ipython3",
   "version": "3.10.11"
  }
 },
 "nbformat": 4,
 "nbformat_minor": 4
}
